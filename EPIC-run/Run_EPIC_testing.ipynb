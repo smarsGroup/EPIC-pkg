{
 "cells": [
  {
   "cell_type": "code",
   "execution_count": 2,
   "metadata": {},
   "outputs": [],
   "source": [
    "import sys\n",
    "sys.path.insert(0, '/gpfs/data1/cmongp/Bharath/lib/')"
   ]
  },
  {
   "cell_type": "code",
   "execution_count": 3,
   "metadata": {},
   "outputs": [],
   "source": [
    "import os\n",
    "import pandas as pd\n",
    "import numpy as np\n",
    "\n",
    "from utils import *"
   ]
  },
  {
   "cell_type": "code",
   "execution_count": 4,
   "metadata": {},
   "outputs": [],
   "source": [
    "import subprocess"
   ]
  },
  {
   "cell_type": "code",
   "execution_count": 13,
   "metadata": {},
   "outputs": [],
   "source": [
    "base_dir = '/gpfs/data1/cmongp/rohitN/CSM/Exp4TFPStudy/OK/Testing'\n",
    "EPIC_csv_filepath = '/gpfs/data1/cmongp/Bharath/OKTPN_1.csv'\n",
    "SOIL_filepath_master = '/gpfs/data1/cmongp/Bharath/ks_ok_soils.csv'"
   ]
  },
  {
   "cell_type": "code",
   "execution_count": 10,
   "metadata": {},
   "outputs": [],
   "source": [
    "EPIC_csv = pd.read_csv(EPIC_csv_filepath)\n"
   ]
  },
  {
   "cell_type": "code",
   "execution_count": 17,
   "metadata": {},
   "outputs": [],
   "source": [
    "df_ls = EPIC_csv.to_dict('records')"
   ]
  },
  {
   "cell_type": "code",
   "execution_count": 5,
   "metadata": {},
   "outputs": [],
   "source": [
    "import os\n",
    "import shutil\n",
    "from subprocess import call\n",
    "\n",
    "def process_model(row):\n",
    "    id = row['OBJECTID']\n",
    "    # Define paths\n",
    "    # base_dir = '/gpfs/data1/cmongp/rohitN/CSM/Exp4TFPStudy/OK/Testing'\n",
    "    model_dir = os.path.join(base_dir, 'EPICModel')\n",
    "    new_dir = os.path.join(base_dir, str(id))\n",
    "    output_dir = os.path.join(base_dir, 'out')\n",
    "\n",
    "    # Delete the new directory if it exists\n",
    "    if os.path.exists(new_dir):\n",
    "        shutil.rmtree(new_dir)\n",
    "        \n",
    "    # Copy EPICModel to a new directory named as id\n",
    "    shutil.copytree(model_dir, new_dir)\n",
    "    \n",
    "    # Assuming the file to edit is file.txt\n",
    "    # Modify the file as you need\n",
    "    with open(f'{new_dir}/EPICRUN.DAT', 'w') as ofile:\n",
    "        fmt = '%8d %8d %8d 0 1 %8d  %8d  %8d  0   0  25   1995   10.00   2.50  2.50  0.1/'\n",
    "        np.savetxt(ofile, [[int(id)]*6], fmt=fmt)\n",
    "        \n",
    "    with open(f'{new_dir}/ieSite.DAT', 'w') as ofile:\n",
    "        fmt = '%8d    \"../common_inputfiles/site/%d.sit\"'\n",
    "        np.savetxt(ofile, [[row['OBJECTID'], row['base']]], fmt=fmt)\n",
    "\n",
    "    with open(f'{new_dir}/ieSllist.DAT', 'w') as ofile:\n",
    "        fmt = '%8d    \"../common_inputfiles/soils/%d.SOL\"'  \n",
    "        np.savetxt(ofile, [[row['OBJECTID'], row['ssu']]], fmt=fmt)\n",
    "\n",
    "    with open(f'{new_dir}/ieWedlst.DAT', 'w') as ofile:\n",
    "        fmt = '%8d    \"../../common_inputfiles/daily/%d.DLY\"'  \n",
    "        np.savetxt(ofile, [[row['OBJECTID'], row['dly']]], fmt=fmt)\n",
    "\n",
    "    with open(f'{new_dir}/ieWealst.DAT', 'w') as ofile:\n",
    "        fmt = '%8d    \"../../common_inputfiles/monthly/%d.INP\"   %.2f   %.2f  NB            XXXX'  \n",
    "        np.savetxt(ofile, [[row['OBJECTID'], row['dly'], row['x'], row['y']]], fmt=fmt)\n",
    "    \n",
    "    with open(f'{new_dir}/ieOplist.DAT', 'w') as ofile:\n",
    "        fmt = '%8d    \"../../common_inputfiles/OPC/CropRot_%d.OPC\"'  \n",
    "        np.savetxt(ofile, [[row['OBJECTID'], row['rotID']]], fmt=fmt)\n",
    "    \n",
    "    # Run the simulation from the new directory\n",
    "    os.chdir(new_dir)\n",
    "    command = f'nohup ./EPIC1102Versions_20201015 &> {base_dir}/log/{id}.out'\n",
    "    message = subprocess.Popen(command, shell=True).wait()\n",
    "    \n",
    "    #check for error\n",
    "    with open(f'{base_dir}/log/{id}.out', 'r') as file:\n",
    "        lines = file.readlines()\n",
    "        last_line = lines[-1]  # Get the last line\n",
    "        if last_line.startswith('EPIC'):\n",
    "            # Save the id into a file\n",
    "            with open(f'{base_dir}/saved_ids.txt', 'a') as id_file: \n",
    "                id_file.write(f'{id}\\n') \n",
    "\n",
    "    # Copy the id.ACY and id.ACM files to output dir\n",
    "    shutil.copy(os.path.join(new_dir, f'{id}.ACY'), output_dir)\n",
    "    shutil.copy(os.path.join(new_dir, f'{id}.ACM'), output_dir)\n",
    "    shutil.copy(os.path.join(new_dir, f'{id}.ACO'), output_dir)\n",
    "    \n",
    "    # Delete the whole new directory\n",
    "    os.chdir(base_dir)\n",
    "    shutil.rmtree(new_dir)"
   ]
  },
  {
   "cell_type": "code",
   "execution_count": 14,
   "metadata": {},
   "outputs": [],
   "source": [
    "# process_model({'OBJECTID': 11871139, 'problty': 100.0, 'rotat': 'Continuous Winter wheat', 'rotID': 6.0, 'x': -97.48982658274372, 'y': 36.39636614597452, 'slope': 0.3059178, 'ele': 338, 'ssu': 382525, 'base': 2054239, 'dly': 400064329, 'id': 192069, 'mukey': 382526.0, 'sl_length': 68, 'slope_steep': 0.0, 'nldas_id': 1516})"
   ]
  },
  {
   "cell_type": "code",
   "execution_count": 16,
   "metadata": {},
   "outputs": [
    {
     "name": "stderr",
     "output_type": "stream",
     "text": [
      "  0%|          | 1/24113 [00:01<11:55:28,  1.78s/it]"
     ]
    },
    {
     "name": "stdout",
     "output_type": "stream",
     "text": [
      "Function execution failed for args:\n",
      " {'OBJECTID': 11871139, 'problty': 100.0, 'rotat': 'Continuous Winter wheat', 'rotID': 6.0, 'x': -97.48982658274372, 'y': 36.39636614597452, 'slope': 0.3059178, 'ele': 338, 'ssu': 382525, 'base': 2054239, 'dly': 400064329, 'id': 192069, 'mukey': 382526.0, 'sl_length': 68, 'slope_steep': 0.0, 'nldas_id': 1516}\n",
      "Exception: [Errno 39] Directory not empty: '/gpfs/data1/cmongp/rohitN/CSM/Exp4TFPStudy/OK/Testing/11871139'.\n",
      "Function execution failed for args:\n",
      " {'OBJECTID': 11871139, 'problty': 100.0, 'rotat': 'Continuous Winter wheat', 'rotID': 6.0, 'x': -97.48982658274372, 'y': 36.39636614597452, 'slope': 0.3059178, 'ele': 338, 'ssu': 382525, 'base': 2054239, 'dly': 400064329, 'id': 192069, 'mukey': 382526.0, 'sl_length': 68, 'slope_steep': 0.0, 'nldas_id': 1516}\n",
      "Exception: [Errno 2] No such file or directory: '/gpfs/data1/cmongp/rohitN/CSM/Exp4TFPStudy/OK/Testing/11871139/11871139.ACY'.\n"
     ]
    },
    {
     "name": "stderr",
     "output_type": "stream",
     "text": [
      "100%|██████████| 24113/24113 [16:25<00:00, 24.46it/s]\n"
     ]
    },
    {
     "data": {
      "text/plain": [
       "([], [1, 0])"
      ]
     },
     "execution_count": 16,
     "metadata": {},
     "output_type": "execute_result"
    }
   ],
   "source": [
    "parallel_executor(process_model, df_ls, max_workers = 80)"
   ]
  },
  {
   "cell_type": "code",
   "execution_count": 21,
   "metadata": {},
   "outputs": [
    {
     "ename": "FileNotFoundError",
     "evalue": "[Errno 2] No such file or directory: '/gpfs/data1/cmongp/rohitN/CSM/Exp4TFPStudy/OK/Testing/EPICModel/saved_ids.txt'",
     "output_type": "error",
     "traceback": [
      "\u001b[0;31m---------------------------------------------------------------------------\u001b[0m",
      "\u001b[0;31mFileNotFoundError\u001b[0m                         Traceback (most recent call last)",
      "Cell \u001b[0;32mIn[21], line 1\u001b[0m\n\u001b[0;32m----> 1\u001b[0m failed \u001b[39m=\u001b[39m pd\u001b[39m.\u001b[39;49mread_csv(os\u001b[39m.\u001b[39;49mpath\u001b[39m.\u001b[39;49mjoin(base_dir, \u001b[39m'\u001b[39;49m\u001b[39msaved_ids.txt\u001b[39;49m\u001b[39m'\u001b[39;49m))\n",
      "File \u001b[0;32m~/.conda/envs/geog/lib/python3.10/site-packages/pandas/io/parsers/readers.py:912\u001b[0m, in \u001b[0;36mread_csv\u001b[0;34m(filepath_or_buffer, sep, delimiter, header, names, index_col, usecols, dtype, engine, converters, true_values, false_values, skipinitialspace, skiprows, skipfooter, nrows, na_values, keep_default_na, na_filter, verbose, skip_blank_lines, parse_dates, infer_datetime_format, keep_date_col, date_parser, date_format, dayfirst, cache_dates, iterator, chunksize, compression, thousands, decimal, lineterminator, quotechar, quoting, doublequote, escapechar, comment, encoding, encoding_errors, dialect, on_bad_lines, delim_whitespace, low_memory, memory_map, float_precision, storage_options, dtype_backend)\u001b[0m\n\u001b[1;32m    899\u001b[0m kwds_defaults \u001b[39m=\u001b[39m _refine_defaults_read(\n\u001b[1;32m    900\u001b[0m     dialect,\n\u001b[1;32m    901\u001b[0m     delimiter,\n\u001b[0;32m   (...)\u001b[0m\n\u001b[1;32m    908\u001b[0m     dtype_backend\u001b[39m=\u001b[39mdtype_backend,\n\u001b[1;32m    909\u001b[0m )\n\u001b[1;32m    910\u001b[0m kwds\u001b[39m.\u001b[39mupdate(kwds_defaults)\n\u001b[0;32m--> 912\u001b[0m \u001b[39mreturn\u001b[39;00m _read(filepath_or_buffer, kwds)\n",
      "File \u001b[0;32m~/.conda/envs/geog/lib/python3.10/site-packages/pandas/io/parsers/readers.py:577\u001b[0m, in \u001b[0;36m_read\u001b[0;34m(filepath_or_buffer, kwds)\u001b[0m\n\u001b[1;32m    574\u001b[0m _validate_names(kwds\u001b[39m.\u001b[39mget(\u001b[39m\"\u001b[39m\u001b[39mnames\u001b[39m\u001b[39m\"\u001b[39m, \u001b[39mNone\u001b[39;00m))\n\u001b[1;32m    576\u001b[0m \u001b[39m# Create the parser.\u001b[39;00m\n\u001b[0;32m--> 577\u001b[0m parser \u001b[39m=\u001b[39m TextFileReader(filepath_or_buffer, \u001b[39m*\u001b[39;49m\u001b[39m*\u001b[39;49mkwds)\n\u001b[1;32m    579\u001b[0m \u001b[39mif\u001b[39;00m chunksize \u001b[39mor\u001b[39;00m iterator:\n\u001b[1;32m    580\u001b[0m     \u001b[39mreturn\u001b[39;00m parser\n",
      "File \u001b[0;32m~/.conda/envs/geog/lib/python3.10/site-packages/pandas/io/parsers/readers.py:1407\u001b[0m, in \u001b[0;36mTextFileReader.__init__\u001b[0;34m(self, f, engine, **kwds)\u001b[0m\n\u001b[1;32m   1404\u001b[0m     \u001b[39mself\u001b[39m\u001b[39m.\u001b[39moptions[\u001b[39m\"\u001b[39m\u001b[39mhas_index_names\u001b[39m\u001b[39m\"\u001b[39m] \u001b[39m=\u001b[39m kwds[\u001b[39m\"\u001b[39m\u001b[39mhas_index_names\u001b[39m\u001b[39m\"\u001b[39m]\n\u001b[1;32m   1406\u001b[0m \u001b[39mself\u001b[39m\u001b[39m.\u001b[39mhandles: IOHandles \u001b[39m|\u001b[39m \u001b[39mNone\u001b[39;00m \u001b[39m=\u001b[39m \u001b[39mNone\u001b[39;00m\n\u001b[0;32m-> 1407\u001b[0m \u001b[39mself\u001b[39m\u001b[39m.\u001b[39m_engine \u001b[39m=\u001b[39m \u001b[39mself\u001b[39;49m\u001b[39m.\u001b[39;49m_make_engine(f, \u001b[39mself\u001b[39;49m\u001b[39m.\u001b[39;49mengine)\n",
      "File \u001b[0;32m~/.conda/envs/geog/lib/python3.10/site-packages/pandas/io/parsers/readers.py:1661\u001b[0m, in \u001b[0;36mTextFileReader._make_engine\u001b[0;34m(self, f, engine)\u001b[0m\n\u001b[1;32m   1659\u001b[0m     \u001b[39mif\u001b[39;00m \u001b[39m\"\u001b[39m\u001b[39mb\u001b[39m\u001b[39m\"\u001b[39m \u001b[39mnot\u001b[39;00m \u001b[39min\u001b[39;00m mode:\n\u001b[1;32m   1660\u001b[0m         mode \u001b[39m+\u001b[39m\u001b[39m=\u001b[39m \u001b[39m\"\u001b[39m\u001b[39mb\u001b[39m\u001b[39m\"\u001b[39m\n\u001b[0;32m-> 1661\u001b[0m \u001b[39mself\u001b[39m\u001b[39m.\u001b[39mhandles \u001b[39m=\u001b[39m get_handle(\n\u001b[1;32m   1662\u001b[0m     f,\n\u001b[1;32m   1663\u001b[0m     mode,\n\u001b[1;32m   1664\u001b[0m     encoding\u001b[39m=\u001b[39;49m\u001b[39mself\u001b[39;49m\u001b[39m.\u001b[39;49moptions\u001b[39m.\u001b[39;49mget(\u001b[39m\"\u001b[39;49m\u001b[39mencoding\u001b[39;49m\u001b[39m\"\u001b[39;49m, \u001b[39mNone\u001b[39;49;00m),\n\u001b[1;32m   1665\u001b[0m     compression\u001b[39m=\u001b[39;49m\u001b[39mself\u001b[39;49m\u001b[39m.\u001b[39;49moptions\u001b[39m.\u001b[39;49mget(\u001b[39m\"\u001b[39;49m\u001b[39mcompression\u001b[39;49m\u001b[39m\"\u001b[39;49m, \u001b[39mNone\u001b[39;49;00m),\n\u001b[1;32m   1666\u001b[0m     memory_map\u001b[39m=\u001b[39;49m\u001b[39mself\u001b[39;49m\u001b[39m.\u001b[39;49moptions\u001b[39m.\u001b[39;49mget(\u001b[39m\"\u001b[39;49m\u001b[39mmemory_map\u001b[39;49m\u001b[39m\"\u001b[39;49m, \u001b[39mFalse\u001b[39;49;00m),\n\u001b[1;32m   1667\u001b[0m     is_text\u001b[39m=\u001b[39;49mis_text,\n\u001b[1;32m   1668\u001b[0m     errors\u001b[39m=\u001b[39;49m\u001b[39mself\u001b[39;49m\u001b[39m.\u001b[39;49moptions\u001b[39m.\u001b[39;49mget(\u001b[39m\"\u001b[39;49m\u001b[39mencoding_errors\u001b[39;49m\u001b[39m\"\u001b[39;49m, \u001b[39m\"\u001b[39;49m\u001b[39mstrict\u001b[39;49m\u001b[39m\"\u001b[39;49m),\n\u001b[1;32m   1669\u001b[0m     storage_options\u001b[39m=\u001b[39;49m\u001b[39mself\u001b[39;49m\u001b[39m.\u001b[39;49moptions\u001b[39m.\u001b[39;49mget(\u001b[39m\"\u001b[39;49m\u001b[39mstorage_options\u001b[39;49m\u001b[39m\"\u001b[39;49m, \u001b[39mNone\u001b[39;49;00m),\n\u001b[1;32m   1670\u001b[0m )\n\u001b[1;32m   1671\u001b[0m \u001b[39massert\u001b[39;00m \u001b[39mself\u001b[39m\u001b[39m.\u001b[39mhandles \u001b[39mis\u001b[39;00m \u001b[39mnot\u001b[39;00m \u001b[39mNone\u001b[39;00m\n\u001b[1;32m   1672\u001b[0m f \u001b[39m=\u001b[39m \u001b[39mself\u001b[39m\u001b[39m.\u001b[39mhandles\u001b[39m.\u001b[39mhandle\n",
      "File \u001b[0;32m~/.conda/envs/geog/lib/python3.10/site-packages/pandas/io/common.py:859\u001b[0m, in \u001b[0;36mget_handle\u001b[0;34m(path_or_buf, mode, encoding, compression, memory_map, is_text, errors, storage_options)\u001b[0m\n\u001b[1;32m    854\u001b[0m \u001b[39melif\u001b[39;00m \u001b[39misinstance\u001b[39m(handle, \u001b[39mstr\u001b[39m):\n\u001b[1;32m    855\u001b[0m     \u001b[39m# Check whether the filename is to be opened in binary mode.\u001b[39;00m\n\u001b[1;32m    856\u001b[0m     \u001b[39m# Binary mode does not support 'encoding' and 'newline'.\u001b[39;00m\n\u001b[1;32m    857\u001b[0m     \u001b[39mif\u001b[39;00m ioargs\u001b[39m.\u001b[39mencoding \u001b[39mand\u001b[39;00m \u001b[39m\"\u001b[39m\u001b[39mb\u001b[39m\u001b[39m\"\u001b[39m \u001b[39mnot\u001b[39;00m \u001b[39min\u001b[39;00m ioargs\u001b[39m.\u001b[39mmode:\n\u001b[1;32m    858\u001b[0m         \u001b[39m# Encoding\u001b[39;00m\n\u001b[0;32m--> 859\u001b[0m         handle \u001b[39m=\u001b[39m \u001b[39mopen\u001b[39;49m(\n\u001b[1;32m    860\u001b[0m             handle,\n\u001b[1;32m    861\u001b[0m             ioargs\u001b[39m.\u001b[39;49mmode,\n\u001b[1;32m    862\u001b[0m             encoding\u001b[39m=\u001b[39;49mioargs\u001b[39m.\u001b[39;49mencoding,\n\u001b[1;32m    863\u001b[0m             errors\u001b[39m=\u001b[39;49merrors,\n\u001b[1;32m    864\u001b[0m             newline\u001b[39m=\u001b[39;49m\u001b[39m\"\u001b[39;49m\u001b[39m\"\u001b[39;49m,\n\u001b[1;32m    865\u001b[0m         )\n\u001b[1;32m    866\u001b[0m     \u001b[39melse\u001b[39;00m:\n\u001b[1;32m    867\u001b[0m         \u001b[39m# Binary mode\u001b[39;00m\n\u001b[1;32m    868\u001b[0m         handle \u001b[39m=\u001b[39m \u001b[39mopen\u001b[39m(handle, ioargs\u001b[39m.\u001b[39mmode)\n",
      "\u001b[0;31mFileNotFoundError\u001b[0m: [Errno 2] No such file or directory: '/gpfs/data1/cmongp/rohitN/CSM/Exp4TFPStudy/OK/Testing/EPICModel/saved_ids.txt'"
     ]
    }
   ],
   "source": [
    "failed = pd.read_csv(os.path.join(base_dir, 'saved_ids.txt'))"
   ]
  },
  {
   "cell_type": "code",
   "execution_count": 19,
   "metadata": {},
   "outputs": [],
   "source": [
    "EPIC_csv.set_index('OBJECTID', inplace = True)"
   ]
  },
  {
   "cell_type": "code",
   "execution_count": 19,
   "metadata": {},
   "outputs": [],
   "source": [
    "EPIC_csv_failed = EPIC_csv.loc[failed.values.flatten()]"
   ]
  },
  {
   "cell_type": "code",
   "execution_count": 22,
   "metadata": {},
   "outputs": [],
   "source": [
    "failed_soilids = list(set(EPIC_csv_failed['ssu']))"
   ]
  },
  {
   "cell_type": "code",
   "execution_count": 23,
   "metadata": {},
   "outputs": [],
   "source": [
    "soil_info_master = pd.read_csv(SOIL_filepath_master)\n",
    "soil_info_master.set_index('band_1', inplace=True)\n",
    "valid_soil_ids = soil_info_master.loc[set(soil_info_master.index).difference(failed_soilids)]\n",
    "invalid_soil_ids = soil_info_master.loc[failed_soilids]\n",
    "inds = find_nearest(invalid_soil_ids, valid_soil_ids, metric = 'minkowski', k = 1)\n",
    "invalid_soil_ids['nearest'] = (valid_soil_ids.index.values)[inds]\n",
    "soil_info_master.loc[invalid_soil_ids.index.values, 'nearest'] = invalid_soil_ids['nearest'].values"
   ]
  },
  {
   "cell_type": "code",
   "execution_count": 42,
   "metadata": {},
   "outputs": [],
   "source": [
    "# soil_info_master.to_csv('/gpfs/data1/cmongp/Bharath/ks_ok_soils.csv')"
   ]
  },
  {
   "cell_type": "code",
   "execution_count": null,
   "metadata": {},
   "outputs": [],
   "source": [
    "EPIC_csv_failed['ssu'] = EPIC_csv_failed['ssu'].apply(lambda x: soil_info_master.loc[int(x), 'nearest'])"
   ]
  },
  {
   "cell_type": "code",
   "execution_count": 44,
   "metadata": {},
   "outputs": [],
   "source": [
    "EPIC_csv_failed.to_csv('failing_ids.csv')\n",
    "EPIC_csv_failed = pd.read_csv('failing_ids.csv')"
   ]
  },
  {
   "cell_type": "code",
   "execution_count": 25,
   "metadata": {},
   "outputs": [],
   "source": [
    "with open(os.path.join(base_dir, 'failed_soil_ids.txt'), 'w') as f:\n",
    "    f.write('\\n'.join(failed_soilids))\n",
    "# pd.DataFrame(failed_soilids).to_csv('failing_soil_ids.csv', index = False)"
   ]
  },
  {
   "cell_type": "code",
   "execution_count": null,
   "metadata": {},
   "outputs": [],
   "source": [
    "df_ls = EPIC_csv_failed.to_dict('records')\n",
    "parallel_executor(process_model, df_ls, max_workers = 80)"
   ]
  },
  {
   "cell_type": "code",
   "execution_count": 6,
   "metadata": {},
   "outputs": [
    {
     "data": {
      "text/html": [
       "<div>\n",
       "<style scoped>\n",
       "    .dataframe tbody tr th:only-of-type {\n",
       "        vertical-align: middle;\n",
       "    }\n",
       "\n",
       "    .dataframe tbody tr th {\n",
       "        vertical-align: top;\n",
       "    }\n",
       "\n",
       "    .dataframe thead th {\n",
       "        text-align: right;\n",
       "    }\n",
       "</style>\n",
       "<table border=\"1\" class=\"dataframe\">\n",
       "  <thead>\n",
       "    <tr style=\"text-align: right;\">\n",
       "      <th></th>\n",
       "      <th>OBJECTID</th>\n",
       "      <th>problty</th>\n",
       "      <th>rotat</th>\n",
       "      <th>rotID</th>\n",
       "      <th>x</th>\n",
       "      <th>y</th>\n",
       "      <th>slope</th>\n",
       "      <th>ele</th>\n",
       "      <th>ssu</th>\n",
       "      <th>base</th>\n",
       "      <th>dly</th>\n",
       "      <th>id</th>\n",
       "      <th>mukey</th>\n",
       "      <th>sl_length</th>\n",
       "      <th>slope_steep</th>\n",
       "      <th>nldas_id</th>\n",
       "    </tr>\n",
       "  </thead>\n",
       "  <tbody>\n",
       "    <tr>\n",
       "      <th>0</th>\n",
       "      <td>11871161</td>\n",
       "      <td>66.666667</td>\n",
       "      <td>Continuous Soybean</td>\n",
       "      <td>2.0</td>\n",
       "      <td>-97.479749</td>\n",
       "      <td>36.396037</td>\n",
       "      <td>0.305918</td>\n",
       "      <td>338</td>\n",
       "      <td>382528</td>\n",
       "      <td>2054242</td>\n",
       "      <td>400064330</td>\n",
       "      <td>192070</td>\n",
       "      <td>382527.0</td>\n",
       "      <td>68</td>\n",
       "      <td>0.00</td>\n",
       "      <td>1516</td>\n",
       "    </tr>\n",
       "    <tr>\n",
       "      <th>1</th>\n",
       "      <td>11871222</td>\n",
       "      <td>66.666667</td>\n",
       "      <td>Continuous Winter wheat</td>\n",
       "      <td>6.0</td>\n",
       "      <td>-97.438024</td>\n",
       "      <td>36.392002</td>\n",
       "      <td>0.386217</td>\n",
       "      <td>337</td>\n",
       "      <td>1907378</td>\n",
       "      <td>2056362</td>\n",
       "      <td>400064335</td>\n",
       "      <td>192186</td>\n",
       "      <td>1907375.0</td>\n",
       "      <td>53</td>\n",
       "      <td>0.00</td>\n",
       "      <td>1516</td>\n",
       "    </tr>\n",
       "    <tr>\n",
       "      <th>2</th>\n",
       "      <td>11871245</td>\n",
       "      <td>66.666667</td>\n",
       "      <td>Continuous Winter wheat</td>\n",
       "      <td>6.0</td>\n",
       "      <td>-97.436056</td>\n",
       "      <td>36.391653</td>\n",
       "      <td>0.386217</td>\n",
       "      <td>337</td>\n",
       "      <td>1907378</td>\n",
       "      <td>2056363</td>\n",
       "      <td>400064335</td>\n",
       "      <td>192186</td>\n",
       "      <td>1907375.0</td>\n",
       "      <td>53</td>\n",
       "      <td>0.00</td>\n",
       "      <td>1516</td>\n",
       "    </tr>\n",
       "    <tr>\n",
       "      <th>3</th>\n",
       "      <td>11871251</td>\n",
       "      <td>85.714286</td>\n",
       "      <td>Continuous Winter wheat</td>\n",
       "      <td>6.0</td>\n",
       "      <td>-97.424345</td>\n",
       "      <td>36.391487</td>\n",
       "      <td>0.791237</td>\n",
       "      <td>338</td>\n",
       "      <td>384069</td>\n",
       "      <td>2056365</td>\n",
       "      <td>400064337</td>\n",
       "      <td>192126</td>\n",
       "      <td>384070.0</td>\n",
       "      <td>68</td>\n",
       "      <td>0.01</td>\n",
       "      <td>1516</td>\n",
       "    </tr>\n",
       "    <tr>\n",
       "      <th>4</th>\n",
       "      <td>11871262</td>\n",
       "      <td>100.000000</td>\n",
       "      <td>Continuous Winter wheat</td>\n",
       "      <td>6.0</td>\n",
       "      <td>-97.494402</td>\n",
       "      <td>36.392416</td>\n",
       "      <td>0.598804</td>\n",
       "      <td>336</td>\n",
       "      <td>382489</td>\n",
       "      <td>2056350</td>\n",
       "      <td>400064329</td>\n",
       "      <td>192031</td>\n",
       "      <td>382488.0</td>\n",
       "      <td>33</td>\n",
       "      <td>0.01</td>\n",
       "      <td>1516</td>\n",
       "    </tr>\n",
       "    <tr>\n",
       "      <th>5</th>\n",
       "      <td>11871285</td>\n",
       "      <td>80.000000</td>\n",
       "      <td>Continuous Winter wheat</td>\n",
       "      <td>6.0</td>\n",
       "      <td>-97.447176</td>\n",
       "      <td>36.389698</td>\n",
       "      <td>0.712803</td>\n",
       "      <td>339</td>\n",
       "      <td>1907378</td>\n",
       "      <td>2056360</td>\n",
       "      <td>400064334</td>\n",
       "      <td>192186</td>\n",
       "      <td>1907375.0</td>\n",
       "      <td>53</td>\n",
       "      <td>0.01</td>\n",
       "      <td>1516</td>\n",
       "    </tr>\n",
       "    <tr>\n",
       "      <th>6</th>\n",
       "      <td>11871287</td>\n",
       "      <td>75.000000</td>\n",
       "      <td>Continuous Winter wheat</td>\n",
       "      <td>6.0</td>\n",
       "      <td>-97.538582</td>\n",
       "      <td>36.389416</td>\n",
       "      <td>0.545207</td>\n",
       "      <td>329</td>\n",
       "      <td>382485</td>\n",
       "      <td>2056341</td>\n",
       "      <td>400065275</td>\n",
       "      <td>192027</td>\n",
       "      <td>382484.0</td>\n",
       "      <td>33</td>\n",
       "      <td>0.01</td>\n",
       "      <td>1515</td>\n",
       "    </tr>\n",
       "    <tr>\n",
       "      <th>7</th>\n",
       "      <td>11871294</td>\n",
       "      <td>50.000000</td>\n",
       "      <td>Continuous Winter wheat</td>\n",
       "      <td>6.0</td>\n",
       "      <td>-97.507134</td>\n",
       "      <td>36.389776</td>\n",
       "      <td>0.442062</td>\n",
       "      <td>333</td>\n",
       "      <td>382532</td>\n",
       "      <td>2056348</td>\n",
       "      <td>400064327</td>\n",
       "      <td>192076</td>\n",
       "      <td>382533.0</td>\n",
       "      <td>33</td>\n",
       "      <td>0.00</td>\n",
       "      <td>1515</td>\n",
       "    </tr>\n",
       "    <tr>\n",
       "      <th>8</th>\n",
       "      <td>11871312</td>\n",
       "      <td>50.000000</td>\n",
       "      <td>Continuous Winter wheat</td>\n",
       "      <td>6.0</td>\n",
       "      <td>-97.510203</td>\n",
       "      <td>36.388231</td>\n",
       "      <td>0.442062</td>\n",
       "      <td>333</td>\n",
       "      <td>382532</td>\n",
       "      <td>2058459</td>\n",
       "      <td>400065278</td>\n",
       "      <td>192076</td>\n",
       "      <td>382533.0</td>\n",
       "      <td>33</td>\n",
       "      <td>0.00</td>\n",
       "      <td>1515</td>\n",
       "    </tr>\n",
       "    <tr>\n",
       "      <th>9</th>\n",
       "      <td>11871329</td>\n",
       "      <td>100.000000</td>\n",
       "      <td>Continuous Winter wheat</td>\n",
       "      <td>6.0</td>\n",
       "      <td>-97.444756</td>\n",
       "      <td>36.388590</td>\n",
       "      <td>0.712803</td>\n",
       "      <td>339</td>\n",
       "      <td>1907378</td>\n",
       "      <td>2058473</td>\n",
       "      <td>400065285</td>\n",
       "      <td>192186</td>\n",
       "      <td>1907375.0</td>\n",
       "      <td>53</td>\n",
       "      <td>0.01</td>\n",
       "      <td>1516</td>\n",
       "    </tr>\n",
       "  </tbody>\n",
       "</table>\n",
       "</div>"
      ],
      "text/plain": [
       "   OBJECTID     problty                    rotat  rotID          x          y  \\\n",
       "0  11871161   66.666667       Continuous Soybean    2.0 -97.479749  36.396037   \n",
       "1  11871222   66.666667  Continuous Winter wheat    6.0 -97.438024  36.392002   \n",
       "2  11871245   66.666667  Continuous Winter wheat    6.0 -97.436056  36.391653   \n",
       "3  11871251   85.714286  Continuous Winter wheat    6.0 -97.424345  36.391487   \n",
       "4  11871262  100.000000  Continuous Winter wheat    6.0 -97.494402  36.392416   \n",
       "5  11871285   80.000000  Continuous Winter wheat    6.0 -97.447176  36.389698   \n",
       "6  11871287   75.000000  Continuous Winter wheat    6.0 -97.538582  36.389416   \n",
       "7  11871294   50.000000  Continuous Winter wheat    6.0 -97.507134  36.389776   \n",
       "8  11871312   50.000000  Continuous Winter wheat    6.0 -97.510203  36.388231   \n",
       "9  11871329  100.000000  Continuous Winter wheat    6.0 -97.444756  36.388590   \n",
       "\n",
       "      slope  ele      ssu     base        dly      id      mukey  sl_length  \\\n",
       "0  0.305918  338   382528  2054242  400064330  192070   382527.0         68   \n",
       "1  0.386217  337  1907378  2056362  400064335  192186  1907375.0         53   \n",
       "2  0.386217  337  1907378  2056363  400064335  192186  1907375.0         53   \n",
       "3  0.791237  338   384069  2056365  400064337  192126   384070.0         68   \n",
       "4  0.598804  336   382489  2056350  400064329  192031   382488.0         33   \n",
       "5  0.712803  339  1907378  2056360  400064334  192186  1907375.0         53   \n",
       "6  0.545207  329   382485  2056341  400065275  192027   382484.0         33   \n",
       "7  0.442062  333   382532  2056348  400064327  192076   382533.0         33   \n",
       "8  0.442062  333   382532  2058459  400065278  192076   382533.0         33   \n",
       "9  0.712803  339  1907378  2058473  400065285  192186  1907375.0         53   \n",
       "\n",
       "   slope_steep  nldas_id  \n",
       "0         0.00      1516  \n",
       "1         0.00      1516  \n",
       "2         0.00      1516  \n",
       "3         0.01      1516  \n",
       "4         0.01      1516  \n",
       "5         0.01      1516  \n",
       "6         0.01      1515  \n",
       "7         0.00      1515  \n",
       "8         0.00      1515  \n",
       "9         0.01      1516  "
      ]
     },
     "execution_count": 6,
     "metadata": {},
     "output_type": "execute_result"
    }
   ],
   "source": [
    "pd.read_csv('failing_ids.csv')"
   ]
  },
  {
   "cell_type": "code",
   "execution_count": null,
   "metadata": {},
   "outputs": [],
   "source": []
  }
 ],
 "metadata": {
  "kernelspec": {
   "display_name": "base",
   "language": "python",
   "name": "python3"
  },
  "language_info": {
   "codemirror_mode": {
    "name": "ipython",
    "version": 3
   },
   "file_extension": ".py",
   "mimetype": "text/x-python",
   "name": "python",
   "nbconvert_exporter": "python",
   "pygments_lexer": "ipython3",
   "version": "3.8.8"
  },
  "orig_nbformat": 4
 },
 "nbformat": 4,
 "nbformat_minor": 2
}
